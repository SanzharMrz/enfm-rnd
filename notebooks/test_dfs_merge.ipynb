{
 "cells": [
  {
   "cell_type": "code",
   "execution_count": 2,
   "id": "c69b80f4-e01c-4003-941a-a433dd0670d6",
   "metadata": {},
   "outputs": [
    {
     "name": "stderr",
     "output_type": "stream",
     "text": [
      "/opt/conda/lib/python3.12/site-packages/cma/s.py:13: UserWarning: Could not import matplotlib.pyplot, therefore ``cma.plot()`` etc. is not available\n",
      "  _warnings.warn('Could not import matplotlib.pyplot, therefore'\n"
     ]
    }
   ],
   "source": [
    "import dfs_merge"
   ]
  },
  {
   "cell_type": "code",
   "execution_count": 3,
   "id": "8b876d70-2edd-42e4-bc72-d555b6ac0e0a",
   "metadata": {},
   "outputs": [
    {
     "name": "stderr",
     "output_type": "stream",
     "text": [
      "/opt/conda/lib/python3.12/site-packages/tqdm/auto.py:21: TqdmWarning: IProgress not found. Please update jupyter and ipywidgets. See https://ipywidgets.readthedocs.io/en/stable/user_install.html\n",
      "  from .autonotebook import tqdm as notebook_tqdm\n",
      "/opt/conda/lib/python3.12/site-packages/transformers/utils/hub.py:127: FutureWarning: Using `TRANSFORMERS_CACHE` is deprecated and will be removed in v5 of Transformers. Use `HF_HOME` instead.\n",
      "  warnings.warn(\n"
     ]
    }
   ],
   "source": [
    "from transformers import AutoTokenizer, AutoModelForCausalLM, pipeline, GenerationConfig\n",
    "import torch\n",
    "import torch.nn as nn\n",
    "import numpy as np\n",
    "from cma.evolution_strategy import CMAEvolutionStrategy"
   ]
  },
  {
   "cell_type": "code",
   "execution_count": 4,
   "id": "0b1ceb8f-57b1-42be-b946-2120ffb964fc",
   "metadata": {},
   "outputs": [
    {
     "name": "stderr",
     "output_type": "stream",
     "text": [
      "Loading checkpoint shards: 100%|██████████| 4/4 [00:02<00:00,  1.54it/s]\n"
     ]
    }
   ],
   "source": [
    "model_name = 'Vikhrmodels/it-5.4-fp16-orpo-v2'\n",
    "model = AutoModelForCausalLM.from_pretrained(\n",
    "    model_name,\n",
    "    device_map=\"cpu\",\n",
    "    attn_implementation=\"sdpa\",\n",
    "    torch_dtype=torch.bfloat16\n",
    ")\n",
    "tokenizer = AutoTokenizer.from_pretrained(model_name)"
   ]
  },
  {
   "cell_type": "code",
   "execution_count": 5,
   "id": "759a4e65-2817-478f-b1d0-8f82cbeba7aa",
   "metadata": {},
   "outputs": [
    {
     "name": "stderr",
     "output_type": "stream",
     "text": [
      "Loading checkpoint shards: 100%|██████████| 4/4 [00:02<00:00,  1.46it/s]\n"
     ]
    }
   ],
   "source": [
    "model2 = AutoModelForCausalLM.from_pretrained(\n",
    "    model_name,\n",
    "    device_map=\"cpu\",\n",
    "    attn_implementation=\"sdpa\",\n",
    "    torch_dtype=torch.bfloat16\n",
    ")"
   ]
  },
  {
   "cell_type": "code",
   "execution_count": 6,
   "id": "039e52fa-5aef-4456-bd32-2c255e2ab7c3",
   "metadata": {},
   "outputs": [
    {
     "name": "stdout",
     "output_type": "stream",
     "text": [
      "(8_w,16)-aCMA-ES (mu_w=4.8,w_1=32%) in dimension 64 (seed=326488, Thu Aug 22 00:40:18 2024)\n",
      "(13_w,27)-aCMA-ES (mu_w=7.8,w_1=22%) in dimension 2145 (seed=335576, Thu Aug 22 00:40:18 2024)\n"
     ]
    }
   ],
   "source": [
    "M = 32\n",
    "r = 1\n",
    "n = 2\n",
    "cma_es_I = CMAEvolutionStrategy([1] + [0] * (M * r * n - 2) + [1], 0.1)\n",
    "cma_es_W = CMAEvolutionStrategy([0.5] * ((M * r * n + 2) * (M * r * n + 1) // 2), 0.5)"
   ]
  },
  {
   "cell_type": "code",
   "execution_count": 7,
   "id": "a56ae24b-2bb5-4ab1-aa27-ea8135b73fa5",
   "metadata": {},
   "outputs": [],
   "source": [
    "POPULATION_SIZE = 2"
   ]
  },
  {
   "cell_type": "code",
   "execution_count": 8,
   "id": "38a1576c-5b17-44f4-a2f4-1553257c9de5",
   "metadata": {},
   "outputs": [],
   "source": [
    "Is = cma_es_I.ask(number=POPULATION_SIZE)\n",
    "Ws = cma_es_W.ask(number=POPULATION_SIZE)"
   ]
  },
  {
   "cell_type": "code",
   "execution_count": 9,
   "id": "4b03c305-8502-4595-9357-ccb839cb97e5",
   "metadata": {},
   "outputs": [],
   "source": [
    "Wm = dfs_merge.W_to_matrix(Ws[0], M * n * r + 2)"
   ]
  },
  {
   "cell_type": "code",
   "execution_count": 10,
   "id": "71fbfa3c-a57e-4c1f-b6aa-9b18b1bc77b8",
   "metadata": {},
   "outputs": [
    {
     "data": {
      "text/plain": [
       "array([1, 1, 1, 0, 1, 0, 0, 1, 1, 0, 0, 0, 1, 1, 0, 1, 0, 0, 1, 1, 0, 1,\n",
       "       0, 0, 1, 0, 0, 1, 0, 0, 1, 0, 1, 0, 1, 1, 1, 0, 0, 1, 1, 0, 0, 0,\n",
       "       1, 1, 0, 0, 1, 1, 0, 1, 1, 0, 0, 1, 1, 0, 1, 1, 1, 1, 0, 1],\n",
       "      dtype=int8)"
      ]
     },
     "execution_count": 10,
     "metadata": {},
     "output_type": "execute_result"
    }
   ],
   "source": [
    "(Is[0] > 0).astype(np.int8)"
   ]
  },
  {
   "cell_type": "code",
   "execution_count": 12,
   "id": "7596c1c2-1149-44c0-9dcc-56e4a40f2080",
   "metadata": {
    "scrolled": true
   },
   "outputs": [],
   "source": [
    "merged = dfs_merge.construct_merged_model([model, model2], (Is[0] > 0).astype(np.int8), Wm, 1, 32)"
   ]
  },
  {
   "cell_type": "code",
   "execution_count": 13,
   "id": "cc31e0c0-0fda-4ea8-8987-e9fe6efa4b87",
   "metadata": {
    "scrolled": true
   },
   "outputs": [
    {
     "data": {
      "text/plain": [
       "{'input_ids': [1, 1619, 5555, 43812, 2790, 16672], 'attention_mask': [1, 1, 1, 1, 1, 1]}"
      ]
     },
     "execution_count": 13,
     "metadata": {},
     "output_type": "execute_result"
    }
   ],
   "source": [
    "tokenizer(\"коты любят кашу\")"
   ]
  },
  {
   "cell_type": "code",
   "execution_count": 14,
   "id": "faefc772-6abb-47d5-97da-a39d1dcb508d",
   "metadata": {},
   "outputs": [
    {
     "data": {
      "text/plain": [
       "4"
      ]
     },
     "execution_count": 14,
     "metadata": {},
     "output_type": "execute_result"
    }
   ],
   "source": [
    "torch.cuda.device_count()"
   ]
  },
  {
   "cell_type": "code",
   "execution_count": 15,
   "id": "845f1b65-0e5d-46ed-926d-f502ad79522f",
   "metadata": {},
   "outputs": [],
   "source": [
    "inp = torch.tensor([[1, 1619, 5555, 43812, 2790, 16672]])"
   ]
  },
  {
   "cell_type": "code",
   "execution_count": 16,
   "id": "05a0f7e6-1422-4517-b199-be42a77f96a4",
   "metadata": {},
   "outputs": [],
   "source": [
    "with torch.no_grad():\n",
    "    emb = merged[\"embed\"](inp)\n",
    "    rot = merged[\"rotary\"](emb, torch.tensor([[i for i in range(len(emb))]]))\n",
    "    out = emb\n",
    "    idx = 0\n",
    "    for layer in merged[\"layers\"]:\n",
    "        if idx % 2 == 0:\n",
    "            out = layer(emb)\n",
    "        else:\n",
    "            out = layer(hidden_states=emb, position_embeddings=rot)\n",
    "        idx += 1\n",
    "    out = merged[\"lm_head\"](out)"
   ]
  },
  {
   "cell_type": "code",
   "execution_count": 17,
   "id": "da669a6c-1565-4a7a-a97b-b990e1cf6da4",
   "metadata": {},
   "outputs": [
    {
     "data": {
      "text/plain": [
       "torch.Size([1, 6, 79100])"
      ]
     },
     "execution_count": 17,
     "metadata": {},
     "output_type": "execute_result"
    }
   ],
   "source": [
    "out.shape"
   ]
  },
  {
   "cell_type": "code",
   "execution_count": null,
   "id": "d4586ca5-0104-4d6e-9ddd-c6d9c9b863e6",
   "metadata": {},
   "outputs": [],
   "source": []
  }
 ],
 "metadata": {
  "kernelspec": {
   "display_name": "Python 3 (ipykernel)",
   "language": "python",
   "name": "python3"
  },
  "language_info": {
   "codemirror_mode": {
    "name": "ipython",
    "version": 3
   },
   "file_extension": ".py",
   "mimetype": "text/x-python",
   "name": "python",
   "nbconvert_exporter": "python",
   "pygments_lexer": "ipython3",
   "version": "3.12.2"
  }
 },
 "nbformat": 4,
 "nbformat_minor": 5
}
